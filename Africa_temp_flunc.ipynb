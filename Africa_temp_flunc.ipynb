{
 "cells": [
  {
   "cell_type": "markdown",
   "id": "7d360bd4-e040-4e52-ac0f-255440d6bc90",
   "metadata": {},
   "source": [
    "Dataset description : This dataset contains historical data about the daily min, max and average temperature fluctuation in 5 African countries (Egypt, Tunisia, Cameroon, Senegal, Angola) between 1980 and 2023.\n",
    "\n"
   ]
  },
  {
   "cell_type": "code",
   "execution_count": 3,
   "id": "b71d6ee4-f453-4662-9e4e-a1015bcdb309",
   "metadata": {},
   "outputs": [],
   "source": [
    "import pandas as pd\n",
    "import matplotlib.pyplot as plt"
   ]
  },
  {
   "cell_type": "code",
   "execution_count": 4,
   "id": "1a25d1e4-1f90-40e8-98e5-f3b4c69b68a8",
   "metadata": {},
   "outputs": [
    {
     "data": {
      "text/html": [
       "<div>\n",
       "<style scoped>\n",
       "    .dataframe tbody tr th:only-of-type {\n",
       "        vertical-align: middle;\n",
       "    }\n",
       "\n",
       "    .dataframe tbody tr th {\n",
       "        vertical-align: top;\n",
       "    }\n",
       "\n",
       "    .dataframe thead th {\n",
       "        text-align: right;\n",
       "    }\n",
       "</style>\n",
       "<table border=\"1\" class=\"dataframe\">\n",
       "  <thead>\n",
       "    <tr style=\"text-align: right;\">\n",
       "      <th></th>\n",
       "      <th>DATE</th>\n",
       "      <th>PRCP</th>\n",
       "      <th>TAVG</th>\n",
       "      <th>TMAX</th>\n",
       "      <th>TMIN</th>\n",
       "      <th>COUNTRY</th>\n",
       "    </tr>\n",
       "  </thead>\n",
       "  <tbody>\n",
       "    <tr>\n",
       "      <th>0</th>\n",
       "      <td>19800101 000000</td>\n",
       "      <td>NaN</td>\n",
       "      <td>54.0</td>\n",
       "      <td>61.0</td>\n",
       "      <td>43.0</td>\n",
       "      <td>Tunisia</td>\n",
       "    </tr>\n",
       "    <tr>\n",
       "      <th>1</th>\n",
       "      <td>19800101 000000</td>\n",
       "      <td>NaN</td>\n",
       "      <td>49.0</td>\n",
       "      <td>55.0</td>\n",
       "      <td>41.0</td>\n",
       "      <td>Tunisia</td>\n",
       "    </tr>\n",
       "    <tr>\n",
       "      <th>2</th>\n",
       "      <td>19800101 000000</td>\n",
       "      <td>0.0</td>\n",
       "      <td>72.0</td>\n",
       "      <td>86.0</td>\n",
       "      <td>59.0</td>\n",
       "      <td>Cameroon</td>\n",
       "    </tr>\n",
       "    <tr>\n",
       "      <th>3</th>\n",
       "      <td>19800101 000000</td>\n",
       "      <td>NaN</td>\n",
       "      <td>50.0</td>\n",
       "      <td>55.0</td>\n",
       "      <td>43.0</td>\n",
       "      <td>Tunisia</td>\n",
       "    </tr>\n",
       "    <tr>\n",
       "      <th>4</th>\n",
       "      <td>19800101 000000</td>\n",
       "      <td>NaN</td>\n",
       "      <td>75.0</td>\n",
       "      <td>91.0</td>\n",
       "      <td>NaN</td>\n",
       "      <td>Cameroon</td>\n",
       "    </tr>\n",
       "  </tbody>\n",
       "</table>\n",
       "</div>"
      ],
      "text/plain": [
       "              DATE  PRCP  TAVG  TMAX  TMIN   COUNTRY\n",
       "0  19800101 000000   NaN  54.0  61.0  43.0   Tunisia\n",
       "1  19800101 000000   NaN  49.0  55.0  41.0   Tunisia\n",
       "2  19800101 000000   0.0  72.0  86.0  59.0  Cameroon\n",
       "3  19800101 000000   NaN  50.0  55.0  43.0   Tunisia\n",
       "4  19800101 000000   NaN  75.0  91.0   NaN  Cameroon"
      ]
     },
     "execution_count": 4,
     "metadata": {},
     "output_type": "execute_result"
    }
   ],
   "source": [
    "df = pd.read_csv('Africa_climate_change.csv')\n",
    "df.head()"
   ]
  },
  {
   "cell_type": "code",
   "execution_count": 5,
   "id": "fcbb9e6d-a675-4650-803b-e2901b0197b8",
   "metadata": {},
   "outputs": [
    {
     "data": {
      "text/plain": [
       "(464815, 6)"
      ]
     },
     "execution_count": 5,
     "metadata": {},
     "output_type": "execute_result"
    }
   ],
   "source": [
    "df.shape"
   ]
  },
  {
   "cell_type": "code",
   "execution_count": 6,
   "id": "6d1a8be2-b016-4b1f-ab16-dffa6e3305f6",
   "metadata": {},
   "outputs": [
    {
     "data": {
      "text/plain": [
       "DATE        object\n",
       "PRCP       float64\n",
       "TAVG       float64\n",
       "TMAX       float64\n",
       "TMIN       float64\n",
       "COUNTRY     object\n",
       "dtype: object"
      ]
     },
     "execution_count": 6,
     "metadata": {},
     "output_type": "execute_result"
    }
   ],
   "source": [
    "df.dtypes"
   ]
  },
  {
   "cell_type": "code",
   "execution_count": 7,
   "id": "77b7ed96-1852-4c09-877e-32acea48d958",
   "metadata": {},
   "outputs": [
    {
     "data": {
      "text/plain": [
       "DATE       datetime64[ns]\n",
       "PRCP              float64\n",
       "TAVG              float64\n",
       "TMAX              float64\n",
       "TMIN              float64\n",
       "COUNTRY            object\n",
       "dtype: object"
      ]
     },
     "execution_count": 7,
     "metadata": {},
     "output_type": "execute_result"
    }
   ],
   "source": [
    "df['DATE'] = pd.to_datetime(df['DATE'])\n",
    "df.dtypes"
   ]
  },
  {
   "cell_type": "code",
   "execution_count": 8,
   "id": "122d204d-ffa4-4c22-b47e-34723d5bddeb",
   "metadata": {},
   "outputs": [
    {
     "data": {
      "text/plain": [
       "DATE            0\n",
       "PRCP       287240\n",
       "TAVG         6376\n",
       "TMAX       100914\n",
       "TMIN       132058\n",
       "COUNTRY         0\n",
       "dtype: int64"
      ]
     },
     "execution_count": 8,
     "metadata": {},
     "output_type": "execute_result"
    }
   ],
   "source": [
    "df.isnull().sum()"
   ]
  },
  {
   "cell_type": "code",
   "execution_count": 9,
   "id": "64ab082e-b924-4a95-8746-dd8ddbd12624",
   "metadata": {},
   "outputs": [
    {
     "data": {
      "text/plain": [
       "0"
      ]
     },
     "execution_count": 9,
     "metadata": {},
     "output_type": "execute_result"
    }
   ],
   "source": [
    "df['PRCP'] = df['PRCP'].fillna(0)\n",
    "df['PRCP'].isnull().sum()"
   ]
  },
  {
   "cell_type": "code",
   "execution_count": 10,
   "id": "43f7aa9e-38a0-4cf7-8d24-d10a9fe4eb56",
   "metadata": {},
   "outputs": [],
   "source": [
    "df['TAVG'] = df['TAVG'].fillna(df['TAVG'].mean())"
   ]
  },
  {
   "cell_type": "code",
   "execution_count": 11,
   "id": "d065a176-0ca0-4b96-b144-c5c3b2d7bd26",
   "metadata": {},
   "outputs": [],
   "source": [
    "df['TMAX'] = df['TMAX'].fillna(df['TMAX'].mean())"
   ]
  },
  {
   "cell_type": "code",
   "execution_count": 12,
   "id": "9d1f762e-6103-4909-af2a-f7fca6e0a837",
   "metadata": {},
   "outputs": [
    {
     "name": "stderr",
     "output_type": "stream",
     "text": [
      "/var/folders/8q/chrmd63d01xcfggc03fvrk2c0000gn/T/ipykernel_5015/2752812702.py:1: FutureWarning: A value is trying to be set on a copy of a DataFrame or Series through chained assignment using an inplace method.\n",
      "The behavior will change in pandas 3.0. This inplace method will never work because the intermediate object on which we are setting values always behaves as a copy.\n",
      "\n",
      "For example, when doing 'df[col].method(value, inplace=True)', try using 'df.method({col: value}, inplace=True)' or df[col] = df[col].method(value) instead, to perform the operation inplace on the original object.\n",
      "\n",
      "\n",
      "  df['TMIN'].fillna(df['TMIN'].mean(), inplace=True)  # Using mean\n"
     ]
    }
   ],
   "source": [
    "df['TMIN'].fillna(df['TMIN'].mean(), inplace=True)  # Using mean"
   ]
  },
  {
   "cell_type": "code",
   "execution_count": 13,
   "id": "ece27bf6-7dba-4a3d-afcf-93ab1874b722",
   "metadata": {},
   "outputs": [
    {
     "data": {
      "text/plain": [
       "DATE       0\n",
       "PRCP       0\n",
       "TAVG       0\n",
       "TMAX       0\n",
       "TMIN       0\n",
       "COUNTRY    0\n",
       "dtype: int64"
      ]
     },
     "execution_count": 13,
     "metadata": {},
     "output_type": "execute_result"
    }
   ],
   "source": [
    "df.isnull().sum()"
   ]
  },
  {
   "cell_type": "code",
   "execution_count": 14,
   "id": "ac974bc3-4f0b-41ce-b0a3-4ca93e708b70",
   "metadata": {},
   "outputs": [
    {
     "data": {
      "text/html": [
       "<div>\n",
       "<style scoped>\n",
       "    .dataframe tbody tr th:only-of-type {\n",
       "        vertical-align: middle;\n",
       "    }\n",
       "\n",
       "    .dataframe tbody tr th {\n",
       "        vertical-align: top;\n",
       "    }\n",
       "\n",
       "    .dataframe thead th {\n",
       "        text-align: right;\n",
       "    }\n",
       "</style>\n",
       "<table border=\"1\" class=\"dataframe\">\n",
       "  <thead>\n",
       "    <tr style=\"text-align: right;\">\n",
       "      <th></th>\n",
       "      <th>DATE</th>\n",
       "      <th>PRCP</th>\n",
       "      <th>TAVG</th>\n",
       "      <th>TMAX</th>\n",
       "      <th>TMIN</th>\n",
       "    </tr>\n",
       "  </thead>\n",
       "  <tbody>\n",
       "    <tr>\n",
       "      <th>count</th>\n",
       "      <td>464815</td>\n",
       "      <td>464815.000000</td>\n",
       "      <td>464815.000000</td>\n",
       "      <td>464815.000000</td>\n",
       "      <td>464815.000000</td>\n",
       "    </tr>\n",
       "    <tr>\n",
       "      <th>mean</th>\n",
       "      <td>2002-10-27 06:36:16.891881856</td>\n",
       "      <td>0.046203</td>\n",
       "      <td>77.029838</td>\n",
       "      <td>88.713969</td>\n",
       "      <td>65.548262</td>\n",
       "    </tr>\n",
       "    <tr>\n",
       "      <th>min</th>\n",
       "      <td>1980-01-01 00:00:00</td>\n",
       "      <td>0.000000</td>\n",
       "      <td>-49.000000</td>\n",
       "      <td>41.000000</td>\n",
       "      <td>12.000000</td>\n",
       "    </tr>\n",
       "    <tr>\n",
       "      <th>25%</th>\n",
       "      <td>1992-07-02 00:00:00</td>\n",
       "      <td>0.000000</td>\n",
       "      <td>70.000000</td>\n",
       "      <td>84.000000</td>\n",
       "      <td>63.000000</td>\n",
       "    </tr>\n",
       "    <tr>\n",
       "      <th>50%</th>\n",
       "      <td>2003-06-29 00:00:00</td>\n",
       "      <td>0.000000</td>\n",
       "      <td>79.000000</td>\n",
       "      <td>88.713969</td>\n",
       "      <td>65.548262</td>\n",
       "    </tr>\n",
       "    <tr>\n",
       "      <th>75%</th>\n",
       "      <td>2013-06-30 00:00:00</td>\n",
       "      <td>0.000000</td>\n",
       "      <td>85.000000</td>\n",
       "      <td>96.000000</td>\n",
       "      <td>72.000000</td>\n",
       "    </tr>\n",
       "    <tr>\n",
       "      <th>max</th>\n",
       "      <td>2023-08-23 00:00:00</td>\n",
       "      <td>19.690000</td>\n",
       "      <td>110.000000</td>\n",
       "      <td>123.000000</td>\n",
       "      <td>97.000000</td>\n",
       "    </tr>\n",
       "    <tr>\n",
       "      <th>std</th>\n",
       "      <td>NaN</td>\n",
       "      <td>0.306211</td>\n",
       "      <td>11.444325</td>\n",
       "      <td>11.540288</td>\n",
       "      <td>9.761109</td>\n",
       "    </tr>\n",
       "  </tbody>\n",
       "</table>\n",
       "</div>"
      ],
      "text/plain": [
       "                                DATE           PRCP           TAVG  \\\n",
       "count                         464815  464815.000000  464815.000000   \n",
       "mean   2002-10-27 06:36:16.891881856       0.046203      77.029838   \n",
       "min              1980-01-01 00:00:00       0.000000     -49.000000   \n",
       "25%              1992-07-02 00:00:00       0.000000      70.000000   \n",
       "50%              2003-06-29 00:00:00       0.000000      79.000000   \n",
       "75%              2013-06-30 00:00:00       0.000000      85.000000   \n",
       "max              2023-08-23 00:00:00      19.690000     110.000000   \n",
       "std                              NaN       0.306211      11.444325   \n",
       "\n",
       "                TMAX           TMIN  \n",
       "count  464815.000000  464815.000000  \n",
       "mean       88.713969      65.548262  \n",
       "min        41.000000      12.000000  \n",
       "25%        84.000000      63.000000  \n",
       "50%        88.713969      65.548262  \n",
       "75%        96.000000      72.000000  \n",
       "max       123.000000      97.000000  \n",
       "std        11.540288       9.761109  "
      ]
     },
     "execution_count": 14,
     "metadata": {},
     "output_type": "execute_result"
    }
   ],
   "source": [
    "df.describe()"
   ]
  },
  {
   "cell_type": "code",
   "execution_count": 15,
   "id": "61057b64-2259-485b-ac08-fda4a6b029be",
   "metadata": {},
   "outputs": [],
   "source": [
    "df = df[df['TAVG'] >= 0] # eliminating the -ve value in TAVG"
   ]
  },
  {
   "cell_type": "code",
   "execution_count": 16,
   "id": "401aea0e-e27a-431f-9b85-1c6715097bad",
   "metadata": {},
   "outputs": [
    {
     "data": {
      "text/html": [
       "<div>\n",
       "<style scoped>\n",
       "    .dataframe tbody tr th:only-of-type {\n",
       "        vertical-align: middle;\n",
       "    }\n",
       "\n",
       "    .dataframe tbody tr th {\n",
       "        vertical-align: top;\n",
       "    }\n",
       "\n",
       "    .dataframe thead th {\n",
       "        text-align: right;\n",
       "    }\n",
       "</style>\n",
       "<table border=\"1\" class=\"dataframe\">\n",
       "  <thead>\n",
       "    <tr style=\"text-align: right;\">\n",
       "      <th></th>\n",
       "      <th>DATE</th>\n",
       "      <th>PRCP</th>\n",
       "      <th>TAVG</th>\n",
       "      <th>TMAX</th>\n",
       "      <th>TMIN</th>\n",
       "    </tr>\n",
       "  </thead>\n",
       "  <tbody>\n",
       "    <tr>\n",
       "      <th>count</th>\n",
       "      <td>464814</td>\n",
       "      <td>464814.000000</td>\n",
       "      <td>464814.000000</td>\n",
       "      <td>464814.000000</td>\n",
       "      <td>464814.000000</td>\n",
       "    </tr>\n",
       "    <tr>\n",
       "      <th>mean</th>\n",
       "      <td>2002-10-27 06:13:10.086357248</td>\n",
       "      <td>0.046203</td>\n",
       "      <td>77.030109</td>\n",
       "      <td>88.713969</td>\n",
       "      <td>65.548262</td>\n",
       "    </tr>\n",
       "    <tr>\n",
       "      <th>min</th>\n",
       "      <td>1980-01-01 00:00:00</td>\n",
       "      <td>0.000000</td>\n",
       "      <td>36.000000</td>\n",
       "      <td>41.000000</td>\n",
       "      <td>12.000000</td>\n",
       "    </tr>\n",
       "    <tr>\n",
       "      <th>25%</th>\n",
       "      <td>1992-07-02 00:00:00</td>\n",
       "      <td>0.000000</td>\n",
       "      <td>70.000000</td>\n",
       "      <td>84.000000</td>\n",
       "      <td>63.000000</td>\n",
       "    </tr>\n",
       "    <tr>\n",
       "      <th>50%</th>\n",
       "      <td>2003-06-29 00:00:00</td>\n",
       "      <td>0.000000</td>\n",
       "      <td>79.000000</td>\n",
       "      <td>88.713969</td>\n",
       "      <td>65.548262</td>\n",
       "    </tr>\n",
       "    <tr>\n",
       "      <th>75%</th>\n",
       "      <td>2013-06-30 00:00:00</td>\n",
       "      <td>0.000000</td>\n",
       "      <td>85.000000</td>\n",
       "      <td>96.000000</td>\n",
       "      <td>72.000000</td>\n",
       "    </tr>\n",
       "    <tr>\n",
       "      <th>max</th>\n",
       "      <td>2023-08-23 00:00:00</td>\n",
       "      <td>19.690000</td>\n",
       "      <td>110.000000</td>\n",
       "      <td>123.000000</td>\n",
       "      <td>97.000000</td>\n",
       "    </tr>\n",
       "    <tr>\n",
       "      <th>std</th>\n",
       "      <td>NaN</td>\n",
       "      <td>0.306211</td>\n",
       "      <td>11.442844</td>\n",
       "      <td>11.540300</td>\n",
       "      <td>9.761120</td>\n",
       "    </tr>\n",
       "  </tbody>\n",
       "</table>\n",
       "</div>"
      ],
      "text/plain": [
       "                                DATE           PRCP           TAVG  \\\n",
       "count                         464814  464814.000000  464814.000000   \n",
       "mean   2002-10-27 06:13:10.086357248       0.046203      77.030109   \n",
       "min              1980-01-01 00:00:00       0.000000      36.000000   \n",
       "25%              1992-07-02 00:00:00       0.000000      70.000000   \n",
       "50%              2003-06-29 00:00:00       0.000000      79.000000   \n",
       "75%              2013-06-30 00:00:00       0.000000      85.000000   \n",
       "max              2023-08-23 00:00:00      19.690000     110.000000   \n",
       "std                              NaN       0.306211      11.442844   \n",
       "\n",
       "                TMAX           TMIN  \n",
       "count  464814.000000  464814.000000  \n",
       "mean       88.713969      65.548262  \n",
       "min        41.000000      12.000000  \n",
       "25%        84.000000      63.000000  \n",
       "50%        88.713969      65.548262  \n",
       "75%        96.000000      72.000000  \n",
       "max       123.000000      97.000000  \n",
       "std        11.540300       9.761120  "
      ]
     },
     "execution_count": 16,
     "metadata": {},
     "output_type": "execute_result"
    }
   ],
   "source": [
    "df.describe()"
   ]
  },
  {
   "cell_type": "code",
   "execution_count": 17,
   "id": "5c2d916d-0ac3-49b0-875f-1f6b4ed13520",
   "metadata": {},
   "outputs": [
    {
     "data": {
      "text/html": [
       "<div>\n",
       "<style scoped>\n",
       "    .dataframe tbody tr th:only-of-type {\n",
       "        vertical-align: middle;\n",
       "    }\n",
       "\n",
       "    .dataframe tbody tr th {\n",
       "        vertical-align: top;\n",
       "    }\n",
       "\n",
       "    .dataframe thead th {\n",
       "        text-align: right;\n",
       "    }\n",
       "</style>\n",
       "<table border=\"1\" class=\"dataframe\">\n",
       "  <thead>\n",
       "    <tr style=\"text-align: right;\">\n",
       "      <th></th>\n",
       "      <th>DATE</th>\n",
       "      <th>PRCP</th>\n",
       "      <th>TAVG</th>\n",
       "      <th>TMAX</th>\n",
       "      <th>TMIN</th>\n",
       "      <th>COUNTRY</th>\n",
       "    </tr>\n",
       "  </thead>\n",
       "  <tbody>\n",
       "    <tr>\n",
       "      <th>0</th>\n",
       "      <td>1980-01-01</td>\n",
       "      <td>0.0</td>\n",
       "      <td>54.0</td>\n",
       "      <td>61.0</td>\n",
       "      <td>43.000000</td>\n",
       "      <td>Tunisia</td>\n",
       "    </tr>\n",
       "    <tr>\n",
       "      <th>1</th>\n",
       "      <td>1980-01-01</td>\n",
       "      <td>0.0</td>\n",
       "      <td>49.0</td>\n",
       "      <td>55.0</td>\n",
       "      <td>41.000000</td>\n",
       "      <td>Tunisia</td>\n",
       "    </tr>\n",
       "    <tr>\n",
       "      <th>2</th>\n",
       "      <td>1980-01-01</td>\n",
       "      <td>0.0</td>\n",
       "      <td>72.0</td>\n",
       "      <td>86.0</td>\n",
       "      <td>59.000000</td>\n",
       "      <td>Cameroon</td>\n",
       "    </tr>\n",
       "    <tr>\n",
       "      <th>3</th>\n",
       "      <td>1980-01-01</td>\n",
       "      <td>0.0</td>\n",
       "      <td>50.0</td>\n",
       "      <td>55.0</td>\n",
       "      <td>43.000000</td>\n",
       "      <td>Tunisia</td>\n",
       "    </tr>\n",
       "    <tr>\n",
       "      <th>4</th>\n",
       "      <td>1980-01-01</td>\n",
       "      <td>0.0</td>\n",
       "      <td>75.0</td>\n",
       "      <td>91.0</td>\n",
       "      <td>65.548262</td>\n",
       "      <td>Cameroon</td>\n",
       "    </tr>\n",
       "  </tbody>\n",
       "</table>\n",
       "</div>"
      ],
      "text/plain": [
       "        DATE  PRCP  TAVG  TMAX       TMIN   COUNTRY\n",
       "0 1980-01-01   0.0  54.0  61.0  43.000000   Tunisia\n",
       "1 1980-01-01   0.0  49.0  55.0  41.000000   Tunisia\n",
       "2 1980-01-01   0.0  72.0  86.0  59.000000  Cameroon\n",
       "3 1980-01-01   0.0  50.0  55.0  43.000000   Tunisia\n",
       "4 1980-01-01   0.0  75.0  91.0  65.548262  Cameroon"
      ]
     },
     "execution_count": 17,
     "metadata": {},
     "output_type": "execute_result"
    }
   ],
   "source": [
    "# Tun_Cam_data which stands for Tunisia and Cameroon data\n",
    "Tun_Cam_data = df[df['COUNTRY'].isin(['Tunisia', 'Cameroon'])]\n",
    "Tun_Cam_data.head()"
   ]
  },
  {
   "cell_type": "code",
   "execution_count": 18,
   "id": "1db41c05-c1fb-449f-9c01-8390b144efbe",
   "metadata": {},
   "outputs": [
    {
     "data": {
      "text/html": [
       "<div>\n",
       "<style scoped>\n",
       "    .dataframe tbody tr th:only-of-type {\n",
       "        vertical-align: middle;\n",
       "    }\n",
       "\n",
       "    .dataframe tbody tr th {\n",
       "        vertical-align: top;\n",
       "    }\n",
       "\n",
       "    .dataframe thead th {\n",
       "        text-align: right;\n",
       "    }\n",
       "</style>\n",
       "<table border=\"1\" class=\"dataframe\">\n",
       "  <thead>\n",
       "    <tr style=\"text-align: right;\">\n",
       "      <th>COUNTRY</th>\n",
       "      <th>Cameroon</th>\n",
       "      <th>Tunisia</th>\n",
       "    </tr>\n",
       "    <tr>\n",
       "      <th>DATE</th>\n",
       "      <th></th>\n",
       "      <th></th>\n",
       "    </tr>\n",
       "  </thead>\n",
       "  <tbody>\n",
       "    <tr>\n",
       "      <th>1980-01-01</th>\n",
       "      <td>77.000000</td>\n",
       "      <td>50.8</td>\n",
       "    </tr>\n",
       "    <tr>\n",
       "      <th>1980-01-02</th>\n",
       "      <td>77.333333</td>\n",
       "      <td>56.0</td>\n",
       "    </tr>\n",
       "    <tr>\n",
       "      <th>1980-01-03</th>\n",
       "      <td>80.000000</td>\n",
       "      <td>50.0</td>\n",
       "    </tr>\n",
       "    <tr>\n",
       "      <th>1980-01-04</th>\n",
       "      <td>75.333333</td>\n",
       "      <td>49.6</td>\n",
       "    </tr>\n",
       "    <tr>\n",
       "      <th>1980-01-05</th>\n",
       "      <td>76.000000</td>\n",
       "      <td>48.2</td>\n",
       "    </tr>\n",
       "  </tbody>\n",
       "</table>\n",
       "</div>"
      ],
      "text/plain": [
       "COUNTRY      Cameroon  Tunisia\n",
       "DATE                          \n",
       "1980-01-01  77.000000     50.8\n",
       "1980-01-02  77.333333     56.0\n",
       "1980-01-03  80.000000     50.0\n",
       "1980-01-04  75.333333     49.6\n",
       "1980-01-05  76.000000     48.2"
      ]
     },
     "execution_count": 18,
     "metadata": {},
     "output_type": "execute_result"
    }
   ],
   "source": [
    "# Group by Date and Country, on the average of TAVG column\n",
    "avg_temp = Tun_Cam_data.groupby(['DATE', 'COUNTRY'])['TAVG'].mean().unstack()\n",
    "avg_temp.head()"
   ]
  },
  {
   "cell_type": "markdown",
   "id": "54a3e70a-76e0-45ba-9ca5-1735aed9404c",
   "metadata": {},
   "source": [
    "Now we're plotting a line chart to show the average temperature fluctuations in Tunisia and Cameroon.\n"
   ]
  },
  {
   "cell_type": "code",
   "execution_count": 20,
   "id": "fbc74e65-aac5-4023-8bc1-bda00ed7a17a",
   "metadata": {},
   "outputs": [
    {
     "data": {
      "image/png": "[encoded data removed]",
      "text/plain": [
       "<Figure size 1200x600 with 1 Axes>"
      ]
     },
     "metadata": {},
     "output_type": "display_data"
    }
   ],
   "source": [
    "# Plot line chart\n",
    "plt.figure(figsize=(12, 6))\n",
    "plt.plot(avg_temp.index, avg_temp['Tunisia'], label='Tunisia', marker='o', linestyle='-')\n",
    "plt.plot(avg_temp.index, avg_temp['Cameroon'], label='Cameroon', marker='s', linestyle='--')\n",
    "plt.xlabel('Date')\n",
    "plt.ylabel('Average Temperature (°C)')\n",
    "plt.title('Temperature Fluctuations in Tunisia and Cameroon')\n",
    "plt.legend()\n",
    "plt.xticks(rotation=45)\n",
    "plt.grid(True)\n",
    "\n",
    "plt.show()\n"
   ]
  },
  {
   "cell_type": "markdown",
   "id": "4917d6f0-9292-4196-a8fb-1270d3724bab",
   "metadata": {},
   "source": [
    "From the plot above, it can be deduced that Tunisia colder than cameroon"
   ]
  },
  {
   "cell_type": "code",
   "execution_count": 25,
   "id": "5dc0c7b4-bf95-4309-90e8-dee22dab6e26",
   "metadata": {},
   "outputs": [
    {
     "data": {
      "text/html": [
       "<div>\n",
       "<style scoped>\n",
       "    .dataframe tbody tr th:only-of-type {\n",
       "        vertical-align: middle;\n",
       "    }\n",
       "\n",
       "    .dataframe tbody tr th {\n",
       "        vertical-align: top;\n",
       "    }\n",
       "\n",
       "    .dataframe thead th {\n",
       "        text-align: right;\n",
       "    }\n",
       "</style>\n",
       "<table border=\"1\" class=\"dataframe\">\n",
       "  <thead>\n",
       "    <tr style=\"text-align: right;\">\n",
       "      <th>COUNTRY</th>\n",
       "      <th>Cameroon</th>\n",
       "      <th>Tunisia</th>\n",
       "    </tr>\n",
       "    <tr>\n",
       "      <th>DATE</th>\n",
       "      <th></th>\n",
       "      <th></th>\n",
       "    </tr>\n",
       "  </thead>\n",
       "  <tbody>\n",
       "    <tr>\n",
       "      <th>1980-01-01</th>\n",
       "      <td>77.000000</td>\n",
       "      <td>50.8</td>\n",
       "    </tr>\n",
       "    <tr>\n",
       "      <th>1980-01-02</th>\n",
       "      <td>77.333333</td>\n",
       "      <td>56.0</td>\n",
       "    </tr>\n",
       "    <tr>\n",
       "      <th>1980-01-03</th>\n",
       "      <td>80.000000</td>\n",
       "      <td>50.0</td>\n",
       "    </tr>\n",
       "    <tr>\n",
       "      <th>1980-01-04</th>\n",
       "      <td>75.333333</td>\n",
       "      <td>49.6</td>\n",
       "    </tr>\n",
       "    <tr>\n",
       "      <th>1980-01-05</th>\n",
       "      <td>76.000000</td>\n",
       "      <td>48.2</td>\n",
       "    </tr>\n",
       "    <tr>\n",
       "      <th>...</th>\n",
       "      <td>...</td>\n",
       "      <td>...</td>\n",
       "    </tr>\n",
       "    <tr>\n",
       "      <th>2023-08-19</th>\n",
       "      <td>77.000000</td>\n",
       "      <td>88.8</td>\n",
       "    </tr>\n",
       "    <tr>\n",
       "      <th>2023-08-20</th>\n",
       "      <td>78.333333</td>\n",
       "      <td>86.6</td>\n",
       "    </tr>\n",
       "    <tr>\n",
       "      <th>2023-08-21</th>\n",
       "      <td>81.750000</td>\n",
       "      <td>85.4</td>\n",
       "    </tr>\n",
       "    <tr>\n",
       "      <th>2023-08-22</th>\n",
       "      <td>82.750000</td>\n",
       "      <td>84.2</td>\n",
       "    </tr>\n",
       "    <tr>\n",
       "      <th>2023-08-23</th>\n",
       "      <td>77.750000</td>\n",
       "      <td>86.2</td>\n",
       "    </tr>\n",
       "  </tbody>\n",
       "</table>\n",
       "<p>15937 rows × 2 columns</p>\n",
       "</div>"
      ],
      "text/plain": [
       "COUNTRY      Cameroon  Tunisia\n",
       "DATE                          \n",
       "1980-01-01  77.000000     50.8\n",
       "1980-01-02  77.333333     56.0\n",
       "1980-01-03  80.000000     50.0\n",
       "1980-01-04  75.333333     49.6\n",
       "1980-01-05  76.000000     48.2\n",
       "...               ...      ...\n",
       "2023-08-19  77.000000     88.8\n",
       "2023-08-20  78.333333     86.6\n",
       "2023-08-21  81.750000     85.4\n",
       "2023-08-22  82.750000     84.2\n",
       "2023-08-23  77.750000     86.2\n",
       "\n",
       "[15937 rows x 2 columns]"
      ]
     },
     "execution_count": 25,
     "metadata": {},
     "output_type": "execute_result"
    }
   ],
   "source": [
    "avg_temp"
   ]
  },
  {
   "cell_type": "markdown",
   "id": "b8d6cd8a-be2a-45fb-bcb2-4a7db8c069d4",
   "metadata": {},
   "source": [
    "Create Histograms to show temperature distribution in Senegal between [1980,2000] and [2000,2023] (in the same figure). Describe the obtained results.\n"
   ]
  },
  {
   "cell_type": "code",
   "execution_count": 28,
   "id": "37953874-4a58-4dff-ae66-ff77f48f475b",
   "metadata": {},
   "outputs": [
    {
     "data": {
      "text/html": [
       "<div>\n",
       "<style scoped>\n",
       "    .dataframe tbody tr th:only-of-type {\n",
       "        vertical-align: middle;\n",
       "    }\n",
       "\n",
       "    .dataframe tbody tr th {\n",
       "        vertical-align: top;\n",
       "    }\n",
       "\n",
       "    .dataframe thead th {\n",
       "        text-align: right;\n",
       "    }\n",
       "</style>\n",
       "<table border=\"1\" class=\"dataframe\">\n",
       "  <thead>\n",
       "    <tr style=\"text-align: right;\">\n",
       "      <th></th>\n",
       "      <th>DATE</th>\n",
       "      <th>PRCP</th>\n",
       "      <th>TAVG</th>\n",
       "      <th>TMAX</th>\n",
       "      <th>TMIN</th>\n",
       "      <th>COUNTRY</th>\n",
       "    </tr>\n",
       "  </thead>\n",
       "  <tbody>\n",
       "    <tr>\n",
       "      <th>6</th>\n",
       "      <td>1980-01-01</td>\n",
       "      <td>0.00</td>\n",
       "      <td>76.0</td>\n",
       "      <td>97.000000</td>\n",
       "      <td>59.000000</td>\n",
       "      <td>Senegal</td>\n",
       "    </tr>\n",
       "    <tr>\n",
       "      <th>7</th>\n",
       "      <td>1980-01-01</td>\n",
       "      <td>0.00</td>\n",
       "      <td>74.0</td>\n",
       "      <td>95.000000</td>\n",
       "      <td>59.000000</td>\n",
       "      <td>Senegal</td>\n",
       "    </tr>\n",
       "    <tr>\n",
       "      <th>8</th>\n",
       "      <td>1980-01-01</td>\n",
       "      <td>0.00</td>\n",
       "      <td>78.0</td>\n",
       "      <td>93.000000</td>\n",
       "      <td>63.000000</td>\n",
       "      <td>Senegal</td>\n",
       "    </tr>\n",
       "    <tr>\n",
       "      <th>9</th>\n",
       "      <td>1980-01-01</td>\n",
       "      <td>0.00</td>\n",
       "      <td>76.0</td>\n",
       "      <td>91.000000</td>\n",
       "      <td>59.000000</td>\n",
       "      <td>Senegal</td>\n",
       "    </tr>\n",
       "    <tr>\n",
       "      <th>11</th>\n",
       "      <td>1980-01-01</td>\n",
       "      <td>0.00</td>\n",
       "      <td>84.0</td>\n",
       "      <td>99.000000</td>\n",
       "      <td>65.548262</td>\n",
       "      <td>Senegal</td>\n",
       "    </tr>\n",
       "    <tr>\n",
       "      <th>...</th>\n",
       "      <td>...</td>\n",
       "      <td>...</td>\n",
       "      <td>...</td>\n",
       "      <td>...</td>\n",
       "      <td>...</td>\n",
       "      <td>...</td>\n",
       "    </tr>\n",
       "    <tr>\n",
       "      <th>464803</th>\n",
       "      <td>2023-08-23</td>\n",
       "      <td>1.22</td>\n",
       "      <td>83.0</td>\n",
       "      <td>90.000000</td>\n",
       "      <td>76.000000</td>\n",
       "      <td>Senegal</td>\n",
       "    </tr>\n",
       "    <tr>\n",
       "      <th>464807</th>\n",
       "      <td>2023-08-23</td>\n",
       "      <td>0.00</td>\n",
       "      <td>87.0</td>\n",
       "      <td>99.000000</td>\n",
       "      <td>65.548262</td>\n",
       "      <td>Senegal</td>\n",
       "    </tr>\n",
       "    <tr>\n",
       "      <th>464808</th>\n",
       "      <td>2023-08-23</td>\n",
       "      <td>0.16</td>\n",
       "      <td>82.0</td>\n",
       "      <td>88.713969</td>\n",
       "      <td>65.548262</td>\n",
       "      <td>Senegal</td>\n",
       "    </tr>\n",
       "    <tr>\n",
       "      <th>464810</th>\n",
       "      <td>2023-08-23</td>\n",
       "      <td>0.00</td>\n",
       "      <td>85.0</td>\n",
       "      <td>89.000000</td>\n",
       "      <td>65.548262</td>\n",
       "      <td>Senegal</td>\n",
       "    </tr>\n",
       "    <tr>\n",
       "      <th>464813</th>\n",
       "      <td>2023-08-23</td>\n",
       "      <td>0.00</td>\n",
       "      <td>82.0</td>\n",
       "      <td>94.000000</td>\n",
       "      <td>65.548262</td>\n",
       "      <td>Senegal</td>\n",
       "    </tr>\n",
       "  </tbody>\n",
       "</table>\n",
       "<p>183262 rows × 6 columns</p>\n",
       "</div>"
      ],
      "text/plain": [
       "             DATE  PRCP  TAVG       TMAX       TMIN  COUNTRY\n",
       "6      1980-01-01  0.00  76.0  97.000000  59.000000  Senegal\n",
       "7      1980-01-01  0.00  74.0  95.000000  59.000000  Senegal\n",
       "8      1980-01-01  0.00  78.0  93.000000  63.000000  Senegal\n",
       "9      1980-01-01  0.00  76.0  91.000000  59.000000  Senegal\n",
       "11     1980-01-01  0.00  84.0  99.000000  65.548262  Senegal\n",
       "...           ...   ...   ...        ...        ...      ...\n",
       "464803 2023-08-23  1.22  83.0  90.000000  76.000000  Senegal\n",
       "464807 2023-08-23  0.00  87.0  99.000000  65.548262  Senegal\n",
       "464808 2023-08-23  0.16  82.0  88.713969  65.548262  Senegal\n",
       "464810 2023-08-23  0.00  85.0  89.000000  65.548262  Senegal\n",
       "464813 2023-08-23  0.00  82.0  94.000000  65.548262  Senegal\n",
       "\n",
       "[183262 rows x 6 columns]"
      ]
     },
     "execution_count": 28,
     "metadata": {},
     "output_type": "execute_result"
    }
   ],
   "source": [
    "sen_data = df[df['COUNTRY'] =='Senegal']\n",
    "sen_data"
   ]
  },
  {
   "cell_type": "code",
   "execution_count": 30,
   "id": "c69d18a2-6726-4dbe-8446-1045da25891a",
   "metadata": {},
   "outputs": [
    {
     "name": "stderr",
     "output_type": "stream",
     "text": [
      "/var/folders/8q/chrmd63d01xcfggc03fvrk2c0000gn/T/ipykernel_5015/3844315791.py:4: UserWarning: Boolean Series key will be reindexed to match DataFrame index.\n",
      "  sen_data_to2000 = sen_data[df['DATE'].between(start_date, end_date)]\n"
     ]
    },
    {
     "data": {
      "text/html": [
       "<div>\n",
       "<style scoped>\n",
       "    .dataframe tbody tr th:only-of-type {\n",
       "        vertical-align: middle;\n",
       "    }\n",
       "\n",
       "    .dataframe tbody tr th {\n",
       "        vertical-align: top;\n",
       "    }\n",
       "\n",
       "    .dataframe thead th {\n",
       "        text-align: right;\n",
       "    }\n",
       "</style>\n",
       "<table border=\"1\" class=\"dataframe\">\n",
       "  <thead>\n",
       "    <tr style=\"text-align: right;\">\n",
       "      <th></th>\n",
       "      <th>DATE</th>\n",
       "      <th>PRCP</th>\n",
       "      <th>TAVG</th>\n",
       "      <th>TMAX</th>\n",
       "      <th>TMIN</th>\n",
       "      <th>COUNTRY</th>\n",
       "    </tr>\n",
       "  </thead>\n",
       "  <tbody>\n",
       "    <tr>\n",
       "      <th>6</th>\n",
       "      <td>1980-01-01</td>\n",
       "      <td>0.0</td>\n",
       "      <td>76.0</td>\n",
       "      <td>97.0</td>\n",
       "      <td>59.000000</td>\n",
       "      <td>Senegal</td>\n",
       "    </tr>\n",
       "    <tr>\n",
       "      <th>7</th>\n",
       "      <td>1980-01-01</td>\n",
       "      <td>0.0</td>\n",
       "      <td>74.0</td>\n",
       "      <td>95.0</td>\n",
       "      <td>59.000000</td>\n",
       "      <td>Senegal</td>\n",
       "    </tr>\n",
       "    <tr>\n",
       "      <th>8</th>\n",
       "      <td>1980-01-01</td>\n",
       "      <td>0.0</td>\n",
       "      <td>78.0</td>\n",
       "      <td>93.0</td>\n",
       "      <td>63.000000</td>\n",
       "      <td>Senegal</td>\n",
       "    </tr>\n",
       "    <tr>\n",
       "      <th>9</th>\n",
       "      <td>1980-01-01</td>\n",
       "      <td>0.0</td>\n",
       "      <td>76.0</td>\n",
       "      <td>91.0</td>\n",
       "      <td>59.000000</td>\n",
       "      <td>Senegal</td>\n",
       "    </tr>\n",
       "    <tr>\n",
       "      <th>11</th>\n",
       "      <td>1980-01-01</td>\n",
       "      <td>0.0</td>\n",
       "      <td>84.0</td>\n",
       "      <td>99.0</td>\n",
       "      <td>65.548262</td>\n",
       "      <td>Senegal</td>\n",
       "    </tr>\n",
       "  </tbody>\n",
       "</table>\n",
       "</div>"
      ],
      "text/plain": [
       "         DATE  PRCP  TAVG  TMAX       TMIN  COUNTRY\n",
       "6  1980-01-01   0.0  76.0  97.0  59.000000  Senegal\n",
       "7  1980-01-01   0.0  74.0  95.0  59.000000  Senegal\n",
       "8  1980-01-01   0.0  78.0  93.0  63.000000  Senegal\n",
       "9  1980-01-01   0.0  76.0  91.0  59.000000  Senegal\n",
       "11 1980-01-01   0.0  84.0  99.0  65.548262  Senegal"
      ]
     },
     "execution_count": 30,
     "metadata": {},
     "output_type": "execute_result"
    }
   ],
   "source": [
    "# Filtering senegal data between 1980 to 20000\n",
    "start_date = '1980-01-01'\n",
    "end_date = '2000-12-31'\n",
    "sen_data_to2000 = sen_data[df['DATE'].between(start_date, end_date)]\n",
    "sen_data_to2000.head()"
   ]
  },
  {
   "cell_type": "code",
   "execution_count": 32,
   "id": "bdb39bc8-405a-490d-a81b-d7dfa398c038",
   "metadata": {},
   "outputs": [
    {
     "name": "stderr",
     "output_type": "stream",
     "text": [
      "/var/folders/8q/chrmd63d01xcfggc03fvrk2c0000gn/T/ipykernel_5015/2900746097.py:3: UserWarning: Boolean Series key will be reindexed to match DataFrame index.\n",
      "  sen_data_to2023 = sen_data[df['DATE'].between(start_date_1, end_date_1)]\n"
     ]
    },
    {
     "data": {
      "text/html": [
       "<div>\n",
       "<style scoped>\n",
       "    .dataframe tbody tr th:only-of-type {\n",
       "        vertical-align: middle;\n",
       "    }\n",
       "\n",
       "    .dataframe tbody tr th {\n",
       "        vertical-align: top;\n",
       "    }\n",
       "\n",
       "    .dataframe thead th {\n",
       "        text-align: right;\n",
       "    }\n",
       "</style>\n",
       "<table border=\"1\" class=\"dataframe\">\n",
       "  <thead>\n",
       "    <tr style=\"text-align: right;\">\n",
       "      <th></th>\n",
       "      <th>DATE</th>\n",
       "      <th>PRCP</th>\n",
       "      <th>TAVG</th>\n",
       "      <th>TMAX</th>\n",
       "      <th>TMIN</th>\n",
       "      <th>COUNTRY</th>\n",
       "    </tr>\n",
       "  </thead>\n",
       "  <tbody>\n",
       "    <tr>\n",
       "      <th>198343</th>\n",
       "      <td>2000-01-01</td>\n",
       "      <td>0.0</td>\n",
       "      <td>75.0</td>\n",
       "      <td>85.000000</td>\n",
       "      <td>66.0</td>\n",
       "      <td>Senegal</td>\n",
       "    </tr>\n",
       "    <tr>\n",
       "      <th>198345</th>\n",
       "      <td>2000-01-01</td>\n",
       "      <td>0.0</td>\n",
       "      <td>73.0</td>\n",
       "      <td>88.000000</td>\n",
       "      <td>63.0</td>\n",
       "      <td>Senegal</td>\n",
       "    </tr>\n",
       "    <tr>\n",
       "      <th>198346</th>\n",
       "      <td>2000-01-01</td>\n",
       "      <td>0.0</td>\n",
       "      <td>75.0</td>\n",
       "      <td>88.000000</td>\n",
       "      <td>64.0</td>\n",
       "      <td>Senegal</td>\n",
       "    </tr>\n",
       "    <tr>\n",
       "      <th>198347</th>\n",
       "      <td>2000-01-01</td>\n",
       "      <td>0.0</td>\n",
       "      <td>74.0</td>\n",
       "      <td>90.000000</td>\n",
       "      <td>64.0</td>\n",
       "      <td>Senegal</td>\n",
       "    </tr>\n",
       "    <tr>\n",
       "      <th>198348</th>\n",
       "      <td>2000-01-01</td>\n",
       "      <td>0.0</td>\n",
       "      <td>74.0</td>\n",
       "      <td>88.713969</td>\n",
       "      <td>57.0</td>\n",
       "      <td>Senegal</td>\n",
       "    </tr>\n",
       "  </tbody>\n",
       "</table>\n",
       "</div>"
      ],
      "text/plain": [
       "             DATE  PRCP  TAVG       TMAX  TMIN  COUNTRY\n",
       "198343 2000-01-01   0.0  75.0  85.000000  66.0  Senegal\n",
       "198345 2000-01-01   0.0  73.0  88.000000  63.0  Senegal\n",
       "198346 2000-01-01   0.0  75.0  88.000000  64.0  Senegal\n",
       "198347 2000-01-01   0.0  74.0  90.000000  64.0  Senegal\n",
       "198348 2000-01-01   0.0  74.0  88.713969  57.0  Senegal"
      ]
     },
     "execution_count": 32,
     "metadata": {},
     "output_type": "execute_result"
    }
   ],
   "source": [
    "start_date_1 = '2000-01-01'\n",
    "end_date_1 = '2023-12-31'\n",
    "sen_data_to2023 = sen_data[df['DATE'].between(start_date_1, end_date_1)]\n",
    "sen_data_to2023.head()"
   ]
  },
  {
   "cell_type": "code",
   "execution_count": 34,
   "id": "27491690-aa9c-4c10-acd9-0e490c26f0f0",
   "metadata": {},
   "outputs": [
    {
     "data": {
      "image/png": "[encoded data removed]",
      "text/plain": [
       "<Figure size 1000x600 with 1 Axes>"
      ]
     },
     "metadata": {},
     "output_type": "display_data"
    }
   ],
   "source": [
    "plt.figure(figsize=(10,6))\n",
    "plt.hist(sen_data_to2000['TAVG'], bins=20, alpha=0.6, label=\"1980-2000\", color=\"blue\")\n",
    "plt.hist(sen_data_to2023['TAVG'], bins=20, alpha=0.6, label=\"2000-2023\", color=\"red\")\n",
    "plt.show()"
   ]
  },
  {
   "cell_type": "markdown",
   "id": "61626957-fe97-4618-88e9-1f6ff751a428",
   "metadata": {},
   "source": [
    "From the above visuals,we can suggests there is warming trends in Senegal.\n",
    "Also, there is higher temperature variability in recent years."
   ]
  },
  {
   "cell_type": "code",
   "execution_count": null,
   "id": "d1fd67a0-be25-4a63-a78f-5216da4e1399",
   "metadata": {},
   "outputs": [],
   "source": []
  }
 ],
 "metadata": {
  "kernelspec": {
   "display_name": "Python 3 (ipykernel)",
   "language": "python",
   "name": "python3"
  },
  "language_info": {
   "codemirror_mode": {
    "name": "ipython",
    "version": 3
   },
   "file_extension": ".py",
   "mimetype": "text/x-python",
   "name": "python",
   "nbconvert_exporter": "python",
   "pygments_lexer": "ipython3",
   "version": "3.12.4"
  }
 },
 "nbformat": 4,
 "nbformat_minor": 5
}
