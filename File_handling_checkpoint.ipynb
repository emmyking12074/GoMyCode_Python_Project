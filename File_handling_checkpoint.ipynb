{
 "cells": [
  {
   "cell_type": "markdown",
   "id": "2749de43-3334-4dd9-af45-882ad6364320",
   "metadata": {},
   "source": [
    "Begin by importing the necessary libraries, numpy.\n",
    "- Use the open() function to open csv file and assign the result to a variable.\n",
    "- Use the numpy array to perform some basic statistical analysis on the data, such as finding the mean, median, and standard deviation of the loan amounts.\n",
    "Note:\n",
    "\n",
    "- Be sure to close the file after you have finished reading it in with the open() function.\n",
    "- Use the delimiter parameter in the genfromtxt() function to specify that the values in the file are separated by commas.\n",
    "- You can use the numpy functions mean(), median(), and std() to find the mean, median, and standard deviation of the loan amounts."
   ]
  },
  {
   "cell_type": "code",
   "execution_count": 1,
   "id": "e5333bde-ef38-4799-b595-019989123332",
   "metadata": {},
   "outputs": [],
   "source": [
    "import numpy as np"
   ]
  },
  {
   "cell_type": "code",
   "execution_count": 2,
   "id": "6dd43ec3-16f6-4a67-bb8c-6bc35f833d92",
   "metadata": {},
   "outputs": [
    {
     "data": {
      "text/plain": [
       "array([  0,   0, 128,  66, 120, 141, 267,  95, 158, 168, 349,  70, 109,\n",
       "       200, 114,  17, 125, 100,  76, 133, 115, 104, 315, 116, 112, 151,\n",
       "       191, 122, 110,  35, 120, 201,  74, 106, 114, 320,   0, 100, 144,\n",
       "       184, 110,  80,  47,  75, 134,  96,  88,  44, 144, 120, 144, 100,\n",
       "       120, 112, 134, 286,  97,  96, 135, 180, 144, 120,  99, 165,   0,\n",
       "       116, 258, 126, 312, 125, 136, 172,  97,  81,  95, 187, 113, 176,\n",
       "       110, 180, 130, 111,   0, 167, 265,  50, 136,  99, 104, 210, 175,\n",
       "       131, 188,  81, 122,  25,   0, 137,  50, 115, 131, 133, 151,   0,\n",
       "         0, 160, 100, 225, 120, 216,  94, 136, 139, 152,   0, 118, 185,\n",
       "       154,  85, 175, 259, 180,  44, 137,  81, 194,  93, 370,   0, 160,\n",
       "       182, 650,  74,  70,  25, 102, 290,  84,  88, 242, 129, 185, 168,\n",
       "       175, 122, 187, 100,  70,  30, 225, 125, 118, 152, 244, 113,  50,\n",
       "       600, 160, 187, 120, 255,  98, 275, 121, 158,  75, 182, 112, 129,\n",
       "        63, 200,  95, 700,  81, 187,  87, 116, 101, 495, 116, 102, 180,\n",
       "        67,  73, 260, 108, 120,  66,  58, 168, 188,  48, 164, 160,  76,\n",
       "       120, 170, 187, 120, 113,  83,  90, 166,   0, 135, 124, 120,  80,\n",
       "        55,  59, 127, 214, 128, 240, 130, 137, 100, 135, 131,  72, 127,\n",
       "        60, 116, 144, 175, 128, 170, 138, 210, 158, 200, 104,  42, 120,\n",
       "       280, 140, 170, 255, 122, 112,  96, 120, 140, 155, 108, 123, 120,\n",
       "       112, 137, 123,  90, 201, 138, 104, 279, 192, 255, 115,  94, 304,\n",
       "       128, 330, 134, 155, 120, 128, 151, 150, 160, 135,  90,  30, 136,\n",
       "       126, 150,  90, 115, 207,  80, 436, 124, 158, 112,  78,  54,   0,\n",
       "        89,  99, 120, 115, 187, 139, 127, 134, 143, 172, 110, 200, 135,\n",
       "       151, 113,  93, 105, 132,  96, 140,   0, 135, 104, 480, 185,  84,\n",
       "       111,  56, 144, 159, 111, 120,  88, 112, 155, 115, 124,   0, 132,\n",
       "       300, 376, 130, 184, 110,  67, 117,  98,  71, 490, 182,  70, 160,\n",
       "       176,   0,  71, 173,  46, 158,  74, 125, 160, 152, 126, 259, 187,\n",
       "       228, 308,  95, 105, 130, 116, 165,  67, 100, 200,  81, 236, 130,\n",
       "        95, 141, 133,  96, 124, 175, 570,  55, 155, 380, 111, 110, 120,\n",
       "       130, 130,  71, 130, 128, 296, 156, 128, 100, 113, 132,   0, 136,\n",
       "       125, 185, 275, 120, 113, 113, 135,  71,  95, 109, 103,  45,  65,\n",
       "       103,  53, 194, 115, 115,  66, 152, 360,  62, 160, 218, 110, 178,\n",
       "        60, 160, 239, 112, 138, 138,  80, 100, 110,  96, 121,  81, 133,\n",
       "        87,  60, 150, 105, 405, 143, 100,   0,  50,   0, 187, 138, 187,\n",
       "       180, 148, 152, 175, 130, 110,  55, 150, 190, 125,  60, 149,  90,\n",
       "        84,  96, 118, 173, 136, 160, 160, 128, 153, 132,  98, 140,  70,\n",
       "       110,  98, 110, 162, 113, 100,  93, 162, 150, 230, 132,  86,   0,\n",
       "       154, 113, 128, 234, 246, 131,  80, 500, 160,  75,  96, 186, 110,\n",
       "       225, 119, 105, 107, 111,  95, 209, 113, 100, 208, 138, 124, 243,\n",
       "       480,  96, 188,  40, 100, 250, 148,  70, 311, 150, 113, 123, 185,\n",
       "        95,  45,  55, 100, 480,   0, 400, 110, 161,  94, 130, 216, 100,\n",
       "       110, 196, 125, 126, 324, 107,  66, 157, 140,  99,  95, 128, 102,\n",
       "       155,  80, 145, 103, 110,   0,   0, 158, 181, 132,  26,  84, 260,\n",
       "       162, 182, 108, 600, 211, 132, 258, 120,  70, 123,   9, 104, 186,\n",
       "       165, 275, 187, 150, 108, 136, 110, 107, 161, 205,  90,  36,  61,\n",
       "       146, 172, 104,  70,  94, 106,  56, 205, 292, 142, 260, 110, 187,\n",
       "        88, 180, 192, 350, 155, 128, 172, 496,   0, 173, 157, 108,  71,\n",
       "        40, 253, 187, 133])"
      ]
     },
     "execution_count": 2,
     "metadata": {},
     "output_type": "execute_result"
    }
   ],
   "source": [
    "file_path = 'Loan_prediction_dataset.csv'\n",
    "file = open(file_path, 'r')\n",
    "loan_amount = np.genfromtxt('Loan_prediction_dataset.csv', dtype = 'int', filling_values = 0, delimiter=\",\", usecols=8)\n",
    "loan_amount"
   ]
  },
  {
   "cell_type": "code",
   "execution_count": 3,
   "id": "3d96a0fa-4cf4-4540-9884-a8dcf0b577b0",
   "metadata": {},
   "outputs": [
    {
     "data": {
      "text/plain": [
       "140.93658536585366"
      ]
     },
     "execution_count": 3,
     "metadata": {},
     "output_type": "execute_result"
    }
   ],
   "source": [
    "Loan_amount_mean = np.mean(loan_amount)\n",
    "Loan_amount_mean"
   ]
  },
  {
   "cell_type": "code",
   "execution_count": 4,
   "id": "46806cb7-865c-4f57-8614-bd7302b57664",
   "metadata": {},
   "outputs": [
    {
     "data": {
      "text/plain": [
       "125.0"
      ]
     },
     "execution_count": 4,
     "metadata": {},
     "output_type": "execute_result"
    }
   ],
   "source": [
    "Loan_amount_median = np.median(loan_amount)\n",
    "Loan_amount_median"
   ]
  },
  {
   "cell_type": "code",
   "execution_count": 5,
   "id": "82cafef8-2b2a-4ded-9ec1-731bc3bf0b05",
   "metadata": {},
   "outputs": [
    {
     "data": {
      "text/plain": [
       "88.38007838312286"
      ]
     },
     "execution_count": 5,
     "metadata": {},
     "output_type": "execute_result"
    }
   ],
   "source": [
    "Loan_amount_std = np.std(loan_amount)\n",
    "Loan_amount_std"
   ]
  },
  {
   "cell_type": "code",
   "execution_count": 106,
   "id": "12758661-645e-47a1-b843-f47889b0e7dc",
   "metadata": {},
   "outputs": [],
   "source": [
    "file.close()"
   ]
  },
  {
   "cell_type": "code",
   "execution_count": null,
   "id": "eb196aa5-9db0-499a-a52d-344effb75f80",
   "metadata": {},
   "outputs": [],
   "source": []
  }
 ],
 "metadata": {
  "kernelspec": {
   "display_name": "Python 3 (ipykernel)",
   "language": "python",
   "name": "python3"
  },
  "language_info": {
   "codemirror_mode": {
    "name": "ipython",
    "version": 3
   },
   "file_extension": ".py",
   "mimetype": "text/x-python",
   "name": "python",
   "nbconvert_exporter": "python",
   "pygments_lexer": "ipython3",
   "version": "3.12.4"
  }
 },
 "nbformat": 4,
 "nbformat_minor": 5
}
