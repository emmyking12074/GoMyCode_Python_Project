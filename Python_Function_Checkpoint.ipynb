{
 "cells": [
  {
   "cell_type": "markdown",
   "id": "c497887f-3e67-4a4f-a5bd-2d4544e84233",
   "metadata": {},
   "source": [
    "Create a calculator program that allows the user to perform mathematical operations on two numbers using basic functions and a dictionary to store the operations. The program should also have the ability to continue calculations with the result of previous calculations.\n",
    "\n",
    "\n",
    "Instructions\n",
    "\n",
    "Create four basic mathematical functions: 'add', 'subtract', 'multiply', and 'divide' that take in two numbers and return the result of the operation.\n",
    "Create a dictionary 'operations' that assigns the functions to their corresponding operation symbols.\n",
    "Create a function 'calculator' that prompts the user to input the first number.\n",
    "Use a for loop to print the available operation symbols.\n",
    "Create a while loop that will continue to run until the user chooses to end the current calculation.\n",
    "Inside the while loop, prompt the user to select an operation symbol.\n",
    "Prompt the user to input the second number.\n",
    "Use the dictionary to retrieve the function that corresponds to the selected operation symbol and store it in a variable 'calculation_function'\n",
    "Perform the calculation by calling the 'calculation_function' on the two input numbers and store the result in a variable 'answer'.\n",
    "Print the equation and the result of the calculation.\n",
    "Ask the user if they would like to continue using the result as the first number for further calculations.\n",
    "If the user chooses to continue, update the 'num1' variable to the value of 'answer'.\n",
    "If the user chooses to start a new calculation, set the 'should_continue' variable to false and call the 'calculator' function to start a new calculation.\n",
    "Note: Make sure to test the program with different inputs and operations to ensure that it is functioning properly.\n",
    "\n",
    "\n"
   ]
  },
  {
   "cell_type": "code",
   "execution_count": null,
   "id": "c431d9da-0a8f-4941-9efe-6d71634c50d2",
   "metadata": {},
   "outputs": [
    {
     "name": "stdout",
     "output_type": "stream",
     "text": [
      "Welcome to the calculator!\n"
     ]
    },
    {
     "name": "stdin",
     "output_type": "stream",
     "text": [
      "Enter the first number:  6\n"
     ]
    },
    {
     "name": "stdout",
     "output_type": "stream",
     "text": [
      "+\n",
      "-\n",
      "*\n",
      "/\n"
     ]
    },
    {
     "name": "stdin",
     "output_type": "stream",
     "text": [
      "Pick an operation:  +\n",
      "Enter the second number:  3\n"
     ]
    },
    {
     "name": "stdout",
     "output_type": "stream",
     "text": [
      "6.0 + 3.0 = 9.0\n"
     ]
    },
    {
     "name": "stdin",
     "output_type": "stream",
     "text": [
      "Type 'y' to continue calculating with 9.0, or type 'n' to start a new calculation:  n\n"
     ]
    },
    {
     "name": "stdout",
     "output_type": "stream",
     "text": [
      "Welcome to the calculator!\n"
     ]
    },
    {
     "name": "stdin",
     "output_type": "stream",
     "text": [
      "Enter the first number:  5\n"
     ]
    },
    {
     "name": "stdout",
     "output_type": "stream",
     "text": [
      "+\n",
      "-\n",
      "*\n",
      "/\n"
     ]
    },
    {
     "name": "stdin",
     "output_type": "stream",
     "text": [
      "Pick an operation:  -\n",
      "Enter the second number:  4\n"
     ]
    },
    {
     "name": "stdout",
     "output_type": "stream",
     "text": [
      "5.0 - 4.0 = 1.0\n"
     ]
    }
   ],
   "source": [
    "\n",
    "# Define basic mathematical functions\n",
    "def add(n1, n2):\n",
    "    return n1 + n2\n",
    "\n",
    "def subtract(n1, n2):\n",
    "    return n1 - n2\n",
    "\n",
    "def multiply(n1, n2):\n",
    "    return n1 * n2\n",
    "\n",
    "def divide(n1, n2):\n",
    "    if n2 == 0:\n",
    "        return \"Error: Cannot divide by zero!\"\n",
    "    return n1 / n2\n",
    "\n",
    "# Dictionary to map operation symbols to functions\n",
    "operations = {\n",
    "    \"+\": add,\n",
    "    \"-\": subtract,\n",
    "    \"*\": multiply,\n",
    "    \"/\": divide\n",
    "}\n",
    "\n",
    "# Calculator function to handle user input and calculations\n",
    "def calculator():\n",
    "    print(\"Welcome to the calculator!\")\n",
    "    \n",
    "    # Prompt the user for the first number\n",
    "    num1 = float(input(\"Enter the first number: \"))\n",
    "\n",
    "    # Display available operations\n",
    "    for symbol in operations:\n",
    "        print(symbol)\n",
    "    \n",
    "    should_continue = True\n",
    "\n",
    "    while should_continue:\n",
    "        # Prompt the user to choose an operation\n",
    "        operation_symbol = input(\"Pick an operation: \")\n",
    "\n",
    "        # Prompt the user for the second number\n",
    "        num2 = float(input(\"Enter the second number: \"))\n",
    "\n",
    "        # Get the calculation function from the operations dictionary\n",
    "        calculation_function = operations[operation_symbol]\n",
    "\n",
    "        # Perform the calculation and store the result\n",
    "        answer = calculation_function(num1, num2)\n",
    "\n",
    "        # Print the result of the calculation\n",
    "        print(f\"{num1} {operation_symbol} {num2} = {answer}\")\n",
    "\n",
    "        # Ask the user if they want to continue with the result or start a new calculation\n",
    "        continue_choice = input(f\"Type 'y' to continue calculating with {answer}, or type 'n' to start a new calculation: \").lower()\n",
    "\n",
    "        if continue_choice == \"y\":\n",
    "            # Continue using the result of the previous calculation\n",
    "            num1 = answer\n",
    "        else:\n",
    "            # End the current calculation and start a new one\n",
    "            should_continue = False\n",
    "            calculator()  # Recursively call the calculator function to start a new calculation\n",
    "\n",
    "# Call the calculator function to start the program\n",
    "calculator()\n",
    "\n",
    "\n"
   ]
  },
  {
   "cell_type": "code",
   "execution_count": null,
   "id": "b0b39d43-cef6-4a5f-9ef3-785db5257117",
   "metadata": {},
   "outputs": [],
   "source": []
  }
 ],
 "metadata": {
  "kernelspec": {
   "display_name": "Python 3 (ipykernel)",
   "language": "python",
   "name": "python3"
  },
  "language_info": {
   "codemirror_mode": {
    "name": "ipython",
    "version": 3
   },
   "file_extension": ".py",
   "mimetype": "text/x-python",
   "name": "python",
   "nbconvert_exporter": "python",
   "pygments_lexer": "ipython3",
   "version": "3.12.4"
  }
 },
 "nbformat": 4,
 "nbformat_minor": 5
}
