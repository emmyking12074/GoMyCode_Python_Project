{
 "cells": [
  {
   "cell_type": "code",
   "execution_count": 3,
   "id": "b5a420fa-5d6d-4894-9f17-9da7f33938b3",
   "metadata": {},
   "outputs": [],
   "source": [
    "import requests\n",
    "from bs4 import BeautifulSoup\n",
    "import string"
   ]
  },
  {
   "cell_type": "code",
   "execution_count": 19,
   "id": "426fa713-bd76-46c8-8daa-66479ba695e5",
   "metadata": {},
   "outputs": [
    {
     "name": "stdin",
     "output_type": "stream",
     "text": [
      "Search:  Africa\n"
     ]
    },
    {
     "name": "stdout",
     "output_type": "stream",
     "text": [
      "Area :: 30,370,000 km2 (11,730,000 sq mi)  (2nd)\n",
      "----------------\n",
      "Population :: 1,393,676,444[1][2] (2021; 2nd)\n",
      "----------------\n",
      "Population density :: 46.1/km2 (119.4/sq mi) (2021)\n",
      "----------------\n",
      "GDP (PPP) :: $8.05 trillion (2022 est; 4th)[3]\n",
      "----------------\n",
      "GDP (nominal) :: $2.96 trillion (2022 est; 5th)[4]\n",
      "----------------\n",
      "GDP per capita :: $2,180 (Nominal; 2022 est; 6th)[5]\n",
      "----------------\n",
      "Religions :: Christianity (49%)Islam (42%)Traditional faiths (8%)[A]Others  (1%)[6]\n",
      "----------------\n",
      "Demonym :: African\n",
      "----------------\n",
      "Countries :: 54 recognized states, 2 partially recognized states, 4 dependent territories\n",
      "----------------\n",
      "Dependencies :: External (4)\n",
      " Bouvet Island French Southern Territories Heard Island and McDonald Islands Saint Helena, Ascension and Tristan da Cunha\n",
      "\n",
      "\n",
      "Internal (3+1 disputed)\n",
      " France (Mayotte and Réunion) Morocco (Southern Provinces) Tanzania (Zanzibar) Yemen (Socotra)\n",
      "----------------\n",
      "Languages :: 1250–3000 native languages\n",
      "----------------\n",
      "Time zones :: UTC-1 to UTC+4\n",
      "----------------\n",
      "Largest cities :: Largest urban areas:CairoLagosKinshasaJohannesburgLuandaKhartoumOnitshaDurbanDar es SalaamAbidjanAlexandriaKigaliNairobiAlgiersCape TownKanoDakarCasablancaAddis AbabaKampala\n",
      "----------------\n",
      "\n",
      "Africa is the world's second-largest and second-most populous continent after Asia. At about 30.3 million km2 (11.7 million square miles) including adjacent islands, it covers 20% of Earth's land area and 6% of its total surface area.[9] With nearly 1.4 billion people as of 2021, it accounts for about 18% of the world's human population. Africa's population is the youngest among all the continents;[10][11] the median age in 2012 was 19.7, when the worldwide median age was 30.4.[12] Based on 2024 projections, Africa's population will reach 3.8 billion people by 2099.[13] Africa is the least wealthy inhabited continent per capita and second-least wealthy by total wealth, ahead of Oceania. Scholars have attributed this to different factors including geography, climate,[14] corruption,[14] colonialism, the Cold War,[15][16] and neocolonialism. Despite this low concentration of wealth, recent economic expansion and a large and young population make Africa an important economic market in the broader global context. Africa has a large quantity of natural resources and food resources, including diamonds, sugar, salt, gold, iron, cobalt, uranium, copper, bauxite, silver, petroleum, natural gas, cocoa beans, and tropical fruit.\n"
     ]
    }
   ],
   "source": [
    "# Get user input\n",
    "Enter_input = input('Search: ')\n",
    "# Capitalize user input\n",
    "u_i = string.capwords(Enter_input)\n",
    "lists = u_i.split()\n",
    "word = '_'.join(lists)\n",
    "\n",
    "# Construct the Wikipedia URL\n",
    "url = 'https://en.wikipedia.org/wiki/' + word\n",
    "\n",
    "# define the wikibot function\n",
    "def wikibot(url):\n",
    "    try:\n",
    "        # Fetch the content from the URL\n",
    "        url_open = requests.get(url)\n",
    "        url_open.raise_for_status()  # Raise an error for bad responses\n",
    "        soup = BeautifulSoup(url_open.content, 'html.parser')\n",
    "        \n",
    "        # Find the infobox\n",
    "        details = soup.find_all('table', {'class': 'infobox'})\n",
    "        \n",
    "        if not details:\n",
    "            print(\"No infobox found for this page.\")\n",
    "            return\n",
    "        \n",
    "        for i in details:\n",
    "            h = i.find_all('tr')\n",
    "            for j in h:\n",
    "                heading = j.find_all('th')\n",
    "                detail = j.find_all('td')\n",
    "                if heading and detail:  # Check if both lists are not empty\n",
    "                    for x, y in zip(heading, detail):\n",
    "                        print(\"{} :: {}\".format(x.text.strip(), y.text.strip()))\n",
    "                        print(\"----------------\")\n",
    "        \n",
    "        # Print the first two paragraphs\n",
    "        paragraphs = soup.find_all('p')\n",
    "        for i in range(min(2, len(paragraphs))):  # Ensure we don't go out of bounds\n",
    "            print(paragraphs[i].text.strip())\n",
    "    \n",
    "    except requests.exceptions.RequestException as e:\n",
    "        print(f\"An error occurred: {e}\")\n",
    "\n",
    "# Call the function\n",
    "wikibot(url)"
   ]
  },
  {
   "cell_type": "code",
   "execution_count": null,
   "id": "d5ad25a4-09bd-4a04-95d0-c18feb7d0639",
   "metadata": {},
   "outputs": [],
   "source": []
  }
 ],
 "metadata": {
  "kernelspec": {
   "display_name": "Python 3 (ipykernel)",
   "language": "python",
   "name": "python3"
  },
  "language_info": {
   "codemirror_mode": {
    "name": "ipython",
    "version": 3
   },
   "file_extension": ".py",
   "mimetype": "text/x-python",
   "name": "python",
   "nbconvert_exporter": "python",
   "pygments_lexer": "ipython3",
   "version": "3.12.7"
  }
 },
 "nbformat": 4,
 "nbformat_minor": 5
}
