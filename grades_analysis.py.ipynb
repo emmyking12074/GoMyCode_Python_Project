{
 "cells": [
  {
   "cell_type": "markdown",
   "id": "4fa88efa-33ca-4389-9d67-04747a1326bb",
   "metadata": {},
   "source": [
    "Create a numpy array called \"grades\" that contains the following grades: [85, 90, 88, 92, 95, 80, 75, 98, 89, 83]\r\n",
    "\r\n",
    "\r\n",
    "Instructions\r\n",
    "\r\n",
    "Create a new file called \"grades_analysis.py\"\r\n",
    "Import the numpy library and create the \"grades\" array as specified above.\r\n",
    "Use numpy functions to calculate the mean, median, and standard deviation of the grades.\r\n",
    "Use numpy function to find the maximum and minimum of the grades.\r\n",
    "Use numpy function to sort the grades in ascending order.\r\n",
    "Use numpy function to find the index of the highest grade in the array.\r\n",
    "Use numpy function to count the number of students who scored above 90.\r\n",
    "Use numpy function to calculate the percentage of students who scored above 90.\r\n",
    "Use numpy function to calculate the percentage of students who scored below 75.\r\n",
    "Use numpy function to extract all the grades above 90 and put them in a new array called \"high_performers\".\r\n",
    "Create a new array called \"passing_grades\" that contains all the grades above 75.\r\n",
    "Print the result of all the above steps.\r\n",
    "Note:\r\n",
    "\r\n",
    "to calculate percentage use numpy.mean(grades > 90) * 100\r\n",
    "to extract the grades above 90 use grades[grades > 90]\r\n",
    "to extract the grades above 75 use grades[grades > 75]\r\n",
    "You can use other numpy functions as well to analyze the data as you want. The above steps are just examples of what can be done.\r\n",
    "\r\n",
    "\r\n",
    "f what can be done.\r\n",
    "\r\n",
    "\r\n"
   ]
  },
  {
   "cell_type": "code",
   "execution_count": 1,
   "id": "96e170f2-7266-46f9-8e64-713512349e96",
   "metadata": {},
   "outputs": [],
   "source": [
    "# Import the numpy library and create the \"grades\" array as specified above.\n",
    "import numpy as np"
   ]
  },
  {
   "cell_type": "code",
   "execution_count": 3,
   "id": "f3c13356-3fbd-40b3-9128-0b25f83bb44e",
   "metadata": {},
   "outputs": [
    {
     "data": {
      "text/plain": [
       "array([85, 90, 88, 92, 95, 80, 75, 98, 89, 83])"
      ]
     },
     "execution_count": 3,
     "metadata": {},
     "output_type": "execute_result"
    }
   ],
   "source": [
    "grades = np.array ([85, 90, 88, 92, 95, 80, 75, 98, 89, 83])\n",
    "grades"
   ]
  },
  {
   "cell_type": "code",
   "execution_count": 5,
   "id": "16451c6f-4ed5-4337-ad29-f62a9788c451",
   "metadata": {},
   "outputs": [
    {
     "data": {
      "text/plain": [
       "87.5"
      ]
     },
     "execution_count": 5,
     "metadata": {},
     "output_type": "execute_result"
    }
   ],
   "source": [
    "# Use numpy functions to calculate the mean, median, and standard deviation of the grades.\n",
    "# mean\n",
    "mean_grades = np.mean(grades)\n",
    "mean_grades"
   ]
  },
  {
   "cell_type": "code",
   "execution_count": 6,
   "id": "83d9b35d-4b72-499d-875a-fac799f54666",
   "metadata": {},
   "outputs": [
    {
     "data": {
      "text/plain": [
       "88.5"
      ]
     },
     "execution_count": 6,
     "metadata": {},
     "output_type": "execute_result"
    }
   ],
   "source": [
    "# Median\n",
    "median_grades = np.median(grades)\n",
    "median_grades"
   ]
  },
  {
   "cell_type": "code",
   "execution_count": 28,
   "id": "9f25fa8c-61c8-4e2e-a6f6-652ec688040b",
   "metadata": {},
   "outputs": [
    {
     "data": {
      "text/plain": [
       "6.591661399070799"
      ]
     },
     "execution_count": 28,
     "metadata": {},
     "output_type": "execute_result"
    }
   ],
   "source": [
    "# Standard Deviation\n",
    "std_grades = np.std(grades)\n",
    "std_grades"
   ]
  },
  {
   "cell_type": "code",
   "execution_count": 8,
   "id": "355a42ca-b5e5-4524-9c2b-a2887b3f8248",
   "metadata": {},
   "outputs": [
    {
     "data": {
      "text/plain": [
       "98"
      ]
     },
     "execution_count": 8,
     "metadata": {},
     "output_type": "execute_result"
    }
   ],
   "source": [
    "# Use numpy function to find the maximum and minimum of the grades.\n",
    "# Maximum\n",
    "max_grades = np.max(grades)\n",
    "max_grades"
   ]
  },
  {
   "cell_type": "code",
   "execution_count": 9,
   "id": "db69c5cb-8b7d-4ce4-915b-2ee45b7bf9f2",
   "metadata": {},
   "outputs": [
    {
     "data": {
      "text/plain": [
       "75"
      ]
     },
     "execution_count": 9,
     "metadata": {},
     "output_type": "execute_result"
    }
   ],
   "source": [
    "# Minimum\n",
    "min_grades = np.min(grades)\n",
    "min_grades"
   ]
  },
  {
   "cell_type": "code",
   "execution_count": 12,
   "id": "95ac7b0c-a61e-4927-9e5c-1cff5de08fb6",
   "metadata": {},
   "outputs": [
    {
     "data": {
      "text/plain": [
       "array([75, 80, 83, 85, 88, 89, 90, 92, 95, 98])"
      ]
     },
     "execution_count": 12,
     "metadata": {},
     "output_type": "execute_result"
    }
   ],
   "source": [
    "# Use numpy function to sort the grades in ascending order.\n",
    "# Sort\n",
    "sort_grades = np.sort(grades)\n",
    "sort_grades"
   ]
  },
  {
   "cell_type": "code",
   "execution_count": 13,
   "id": "431108fe-514f-4518-bd21-f06fbb4222c1",
   "metadata": {},
   "outputs": [
    {
     "data": {
      "text/plain": [
       "7"
      ]
     },
     "execution_count": 13,
     "metadata": {},
     "output_type": "execute_result"
    }
   ],
   "source": [
    "# Use numpy function to find the index of the highest grade in the array.\n",
    "index_highest_grade = np.argmax(grades)\n",
    "index_highest_grade"
   ]
  },
  {
   "cell_type": "code",
   "execution_count": 20,
   "id": "409c5160-97a1-44a6-a55d-73de93509d15",
   "metadata": {},
   "outputs": [
    {
     "data": {
      "text/plain": [
       "3"
      ]
     },
     "execution_count": 20,
     "metadata": {},
     "output_type": "execute_result"
    }
   ],
   "source": [
    "# Use numpy function to count the number of students who scored above 90.\n",
    "count_above_90 = np.sum(grades >90)\n",
    "count_above_90"
   ]
  },
  {
   "cell_type": "code",
   "execution_count": 21,
   "id": "168c5ce7-0023-430e-976a-401ce79b40be",
   "metadata": {},
   "outputs": [
    {
     "data": {
      "text/plain": [
       "30.0"
      ]
     },
     "execution_count": 21,
     "metadata": {},
     "output_type": "execute_result"
    }
   ],
   "source": [
    "# Use numpy function to calculate the percentage of students who scored above 90.\n",
    "percentage_above_90 = np.mean(grades >90) * 100\n",
    "percentage_above_90"
   ]
  },
  {
   "cell_type": "code",
   "execution_count": 22,
   "id": "68064a35-06f2-4622-9240-af79a42b8af0",
   "metadata": {},
   "outputs": [
    {
     "data": {
      "text/plain": [
       "0.0"
      ]
     },
     "execution_count": 22,
     "metadata": {},
     "output_type": "execute_result"
    }
   ],
   "source": [
    "# Use numpy function to calculate the percentage of students who scored below 75.\n",
    "percentage_below_75 = np.mean(grades < 75) * 100\n",
    "percentage_below_75"
   ]
  },
  {
   "cell_type": "code",
   "execution_count": 24,
   "id": "97ffcc1e-84c5-4024-8f3d-f33d8bb24ca4",
   "metadata": {},
   "outputs": [
    {
     "data": {
      "text/plain": [
       "array([92, 95, 98])"
      ]
     },
     "execution_count": 24,
     "metadata": {},
     "output_type": "execute_result"
    }
   ],
   "source": [
    "# Use numpy function to extract all the grades above 90 and put them in a new array called \"high_performers\".\n",
    "high_performers = grades [grades >90]\n",
    "high_performers"
   ]
  },
  {
   "cell_type": "code",
   "execution_count": 26,
   "id": "46134c8d-dc1b-4d64-a5a5-2c9d9882f0e8",
   "metadata": {},
   "outputs": [
    {
     "data": {
      "text/plain": [
       "array([85, 90, 88, 92, 95, 80, 98, 89, 83])"
      ]
     },
     "execution_count": 26,
     "metadata": {},
     "output_type": "execute_result"
    }
   ],
   "source": [
    "# Create a new array called \"passing_grades\" that contains all the grades above 75.\n",
    "passing_grades = grades[grades > 75]\n",
    "passing_grades"
   ]
  },
  {
   "cell_type": "code",
   "execution_count": 30,
   "id": "d267d810-f686-4718-9adb-418efc725270",
   "metadata": {},
   "outputs": [
    {
     "name": "stdout",
     "output_type": "stream",
     "text": [
      "Grades: [85 90 88 92 95 80 75 98 89 83]\n",
      "Mean of Grades: 87.5\n",
      "Median of Grades: 88.5\n",
      "Standard Deviation of Grades: 6.591661399070799\n",
      "Maximum of Grades: 98\n",
      "Minimum of Grades: 75\n",
      "Sorted Grades: [75 80 83 85 88 89 90 92 95 98]\n",
      "Index of highest grade: 7\n",
      "Number of score above 90: 3\n",
      "Percentage of score above 90: 30.0%\n",
      "Percentage of score below 75: 0.0%\n",
      "High Performers: [92 95 98]\n",
      "Passing Grades: [85 90 88 92 95 80 98 89 83]\n"
     ]
    }
   ],
   "source": [
    "# Print the result of all the above steps.\n",
    "print(f\"Grades: {grades}\")\n",
    "print(f\"Mean of Grades: {mean_grades}\")\n",
    "print(f\"Median of Grades: {median_grades}\")\n",
    "print(f\"Standard Deviation of Grades: {std_grades}\")\n",
    "print(f\"Maximum of Grades: {max_grades}\")\n",
    "print(f\"Minimum of Grades: {min_grades}\")\n",
    "print(f\"Sorted Grades: {sort_grades}\")\n",
    "print(f\"Index of highest grade: {index_highest_grade}\")\n",
    "print(f\"Number of score above 90: {count_above_90}\")\n",
    "print(f\"Percentage of score above 90: {percentage_above_90}%\")\n",
    "print(f\"Percentage of score below 75: {percentage_below_75}%\")\n",
    "print(f\"High Performers: {high_performers}\")\n",
    "print(f\"Passing Grades: {passing_grades}\")"
   ]
  },
  {
   "cell_type": "code",
   "execution_count": null,
   "id": "3c330185-d1d7-480d-9801-9e0de200230e",
   "metadata": {},
   "outputs": [],
   "source": []
  }
 ],
 "metadata": {
  "kernelspec": {
   "display_name": "Python 3 (ipykernel)",
   "language": "python",
   "name": "python3"
  },
  "language_info": {
   "codemirror_mode": {
    "name": "ipython",
    "version": 3
   },
   "file_extension": ".py",
   "mimetype": "text/x-python",
   "name": "python",
   "nbconvert_exporter": "python",
   "pygments_lexer": "ipython3",
   "version": "3.12.4"
  }
 },
 "nbformat": 4,
 "nbformat_minor": 5
}
